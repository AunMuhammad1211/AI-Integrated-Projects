{
 "cells": [
  {
   "cell_type": "code",
   "execution_count": null,
   "metadata": {},
   "outputs": [
    {
     "name": "stdout",
     "output_type": "stream",
     "text": [
      "Solution Path: [(0, 0), (0, 3), (3, 0), (3, 3), (4, 2), (4, 0), (1, 3), (1, 0), (0, 1), (4, 1), (2, 3), (2, 0)]\n"
     ]
    }
   ],
   "source": [
    "class WaterJugSolver:\n",
    "    def __init__(self, max_x=4, max_y=3):\n",
    "        self.max_x = max_x  \n",
    "        self.max_y = max_y  \n",
    "        self.visited = set()\n",
    "                                                                     \n",
    "    def get_next_states(self, x, y):\n",
    "        return [\n",
    "            (self.max_x, y),  \n",
    "            (x, self.max_y),  \n",
    "            (0, y),  \n",
    "            (x, 0),  \n",
    "            (x - min(x, self.max_y - y), y + min(x, self.max_y - y)),  \n",
    "            (x + min(y, self.max_x - x), y - min(y, self.max_x - x)),  \n",
    "        ]\n",
    "                     \n",
    "    def dfs(self, start_x, start_y, goal_x, goal_y):\n",
    "        stack = [(start_x, start_y, [])] \n",
    "        self.visited.clear()  \n",
    "\n",
    "        while stack:\n",
    "            x, y, path = stack.pop()\n",
    "            \n",
    "            if (x, y) in self.visited:\n",
    "                continue\n",
    "            \n",
    "            self.visited.add((x, y))\n",
    "            path.append((x, y))\n",
    "\n",
    "            if (x, y) == (goal_x, goal_y):\n",
    "                print(\"Solution Path:\", path)\n",
    "                return path\n",
    "            \n",
    "            for next_state in self.get_next_states(x, y):\n",
    "                if next_state not in self.visited:\n",
    "                    stack.append((next_state[0], next_state[1], path.copy()))\n",
    "        \n",
    "        print(\"No solution found.\")\n",
    "        return None\n",
    "\n",
    "if __name__ == \"__main__\":\n",
    "    solver = WaterJugSolver()\n",
    "    solver.dfs(0, 0, 2, 0) "
   ]
  },
  {
   "cell_type": "code",
   "execution_count": null,
   "metadata": {},
   "outputs": [],
   "source": []
  },
  {
   "cell_type": "code",
   "execution_count": null,
   "metadata": {},
   "outputs": [],
   "source": []
  }
 ],
 "metadata": {
  "kernelspec": {
   "display_name": "Python 3",
   "language": "python",
   "name": "python3"
  },
  "language_info": {
   "codemirror_mode": {
    "name": "ipython",
    "version": 3
   },
   "file_extension": ".py",
   "mimetype": "text/x-python",
   "name": "python",
   "nbconvert_exporter": "python",
   "pygments_lexer": "ipython3",
   "version": "3.12.3"
  }
 },
 "nbformat": 4,
 "nbformat_minor": 2
}
