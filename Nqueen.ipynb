{
 "cells": [
  {
   "cell_type": "code",
   "execution_count": null,
   "metadata": {},
   "outputs": [
    {
     "name": "stdout",
     "output_type": "stream",
     "text": [
      "Q . . . .\n",
      ". . Q . .\n",
      ". . . . Q\n",
      ". Q . . .\n",
      ". . . Q .\n",
      "\n"
     ]
    }
   ],
   "source": [
    "def print_solution(board, N):\n",
    "    for row in board:\n",
    "        print(\" \".join(\"Q\" if col else \".\" for col in row))\n",
    "    print()\n",
    "\n",
    "def is_safe(board, row, col, N):\n",
    "    for i in range(row):\n",
    "        if board[i][col]:\n",
    "            return False\n",
    "\n",
    "    for i, j in zip(range(row, -1, -1), range(col, -1, -1)):\n",
    "        if board[i][j]:\n",
    "            return False\n",
    "\n",
    "    for i, j in zip(range(row, -1, -1), range(col, N)):\n",
    "        if board[i][j]:\n",
    "            return False\n",
    "\n",
    "    return True\n",
    "\n",
    "def solve_n_queens(board, row, N):\n",
    "    if row == N:  \n",
    "        print_solution(board, N)\n",
    "        return True  \n",
    "\n",
    "    for col in range(N):\n",
    "        if is_safe(board, row, col, N):\n",
    "            board[row][col] = True  \n",
    "            if solve_n_queens(board, row + 1, N):\n",
    "                return True\n",
    "            board[row][col] = False\n",
    "\n",
    "    return False\n",
    "\n",
    "def n_queens(N):\n",
    "    N = int(input(\"Enter the value of N: \"))\n",
    "    board = [[False] * N for _ in range(N)]\n",
    "    if not solve_n_queens(board, 0, N):\n",
    "        print(\"No solution exists\")\n",
    "\n",
    "n_queens(6)"
   ]
  },
  {
   "cell_type": "code",
   "execution_count": 6,
   "metadata": {},
   "outputs": [],
   "source": [
    "N = 5\n",
    "board = [[False] * N for _ in range(N)]"
   ]
  },
  {
   "cell_type": "code",
   "execution_count": 7,
   "metadata": {},
   "outputs": [
    {
     "name": "stdout",
     "output_type": "stream",
     "text": [
      "[[False, False, False, False, False], [False, False, False, False, False], [False, False, False, False, False], [False, False, False, False, False], [False, False, False, False, False]]\n"
     ]
    }
   ],
   "source": [
    "print(board)"
   ]
  },
  {
   "cell_type": "code",
   "execution_count": null,
   "metadata": {},
   "outputs": [],
   "source": []
  },
  {
   "cell_type": "code",
   "execution_count": null,
   "metadata": {},
   "outputs": [],
   "source": []
  }
 ],
 "metadata": {
  "kernelspec": {
   "display_name": "Python 3",
   "language": "python",
   "name": "python3"
  },
  "language_info": {
   "codemirror_mode": {
    "name": "ipython",
    "version": 3
   },
   "file_extension": ".py",
   "mimetype": "text/x-python",
   "name": "python",
   "nbconvert_exporter": "python",
   "pygments_lexer": "ipython3",
   "version": "3.12.3"
  }
 },
 "nbformat": 4,
 "nbformat_minor": 2
}
